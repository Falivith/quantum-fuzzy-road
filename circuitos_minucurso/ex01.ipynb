{
 "cells": [
  {
   "cell_type": "code",
   "execution_count": 1,
   "metadata": {},
   "outputs": [
    {
     "ename": "MissingOptionalLibraryError",
     "evalue": "\"The 'qiskit-aer' library is required to use 'Aer provider'. You can install it with 'pip install qiskit-aer'.\"",
     "output_type": "error",
     "traceback": [
      "\u001b[1;31m---------------------------------------------------------------------------\u001b[0m",
      "\u001b[1;31mImportError\u001b[0m                               Traceback (most recent call last)",
      "File \u001b[1;32mc:\\Users\\faliv\\AppData\\Local\\Programs\\Python\\Python312\\Lib\\site-packages\\qiskit\\__init__.py:123\u001b[0m, in \u001b[0;36mAerWrapper.__getattr__\u001b[1;34m(self, attr)\u001b[0m\n\u001b[0;32m    122\u001b[0m \u001b[39mtry\u001b[39;00m:\n\u001b[1;32m--> 123\u001b[0m     \u001b[39mfrom\u001b[39;00m \u001b[39mqiskit\u001b[39;00m\u001b[39m.\u001b[39;00m\u001b[39mproviders\u001b[39;00m \u001b[39mimport\u001b[39;00m aer\n\u001b[0;32m    125\u001b[0m     \u001b[39mself\u001b[39m\u001b[39m.\u001b[39maer \u001b[39m=\u001b[39m aer\u001b[39m.\u001b[39mAer\n",
      "\u001b[1;31mImportError\u001b[0m: cannot import name 'aer' from 'qiskit.providers' (c:\\Users\\faliv\\AppData\\Local\\Programs\\Python\\Python312\\Lib\\site-packages\\qiskit\\providers\\__init__.py)",
      "\nThe above exception was the direct cause of the following exception:\n",
      "\u001b[1;31mMissingOptionalLibraryError\u001b[0m               Traceback (most recent call last)",
      "\u001b[1;32mc:\\Users\\faliv\\Desktop\\Quantum\\quantum-fuzzy-road\\circuitos_minucurso\\ex01.ipynb Célula 1\u001b[0m line \u001b[0;36m1\n\u001b[0;32m     <a href='vscode-notebook-cell:/c%3A/Users/faliv/Desktop/Quantum/quantum-fuzzy-road/circuitos_minucurso/ex01.ipynb#W0sZmlsZQ%3D%3D?line=13'>14</a>\u001b[0m circuit\u001b[39m.\u001b[39mmeasure(qreg_q[\u001b[39m1\u001b[39m], creg_c[\u001b[39m1\u001b[39m])\n\u001b[0;32m     <a href='vscode-notebook-cell:/c%3A/Users/faliv/Desktop/Quantum/quantum-fuzzy-road/circuitos_minucurso/ex01.ipynb#W0sZmlsZQ%3D%3D?line=15'>16</a>\u001b[0m \u001b[39m# Compile o circuito\u001b[39;00m\n\u001b[1;32m---> <a href='vscode-notebook-cell:/c%3A/Users/faliv/Desktop/Quantum/quantum-fuzzy-road/circuitos_minucurso/ex01.ipynb#W0sZmlsZQ%3D%3D?line=16'>17</a>\u001b[0m compiled_circuit \u001b[39m=\u001b[39m transpile(circuit, Aer\u001b[39m.\u001b[39;49mget_backend(\u001b[39m'\u001b[39m\u001b[39maer_simulator\u001b[39m\u001b[39m'\u001b[39m))\n\u001b[0;32m     <a href='vscode-notebook-cell:/c%3A/Users/faliv/Desktop/Quantum/quantum-fuzzy-road/circuitos_minucurso/ex01.ipynb#W0sZmlsZQ%3D%3D?line=18'>19</a>\u001b[0m \u001b[39m# Simule o circuito\u001b[39;00m\n\u001b[0;32m     <a href='vscode-notebook-cell:/c%3A/Users/faliv/Desktop/Quantum/quantum-fuzzy-road/circuitos_minucurso/ex01.ipynb#W0sZmlsZQ%3D%3D?line=19'>20</a>\u001b[0m simulator \u001b[39m=\u001b[39m Aer\u001b[39m.\u001b[39mget_backend(\u001b[39m'\u001b[39m\u001b[39maer_simulator\u001b[39m\u001b[39m'\u001b[39m)\n",
      "File \u001b[1;32mc:\\Users\\faliv\\AppData\\Local\\Programs\\Python\\Python312\\Lib\\site-packages\\qiskit\\__init__.py:134\u001b[0m, in \u001b[0;36mAerWrapper.__getattr__\u001b[1;34m(self, attr)\u001b[0m\n\u001b[0;32m    126\u001b[0m         warnings\u001b[39m.\u001b[39mwarn(\n\u001b[0;32m    127\u001b[0m             \u001b[39m\"\u001b[39m\u001b[39mThe qiskit.Aer entry point will be deprecated in a future release and \u001b[39m\u001b[39m\"\u001b[39m\n\u001b[0;32m    128\u001b[0m             \u001b[39m\"\u001b[39m\u001b[39msubsequently removed. Instead you should use this \u001b[39m\u001b[39m\"\u001b[39m\n\u001b[1;32m   (...)\u001b[0m\n\u001b[0;32m    131\u001b[0m             stacklevel\u001b[39m=\u001b[39m\u001b[39m2\u001b[39m,\n\u001b[0;32m    132\u001b[0m         )\n\u001b[0;32m    133\u001b[0m     \u001b[39mexcept\u001b[39;00m \u001b[39mImportError\u001b[39;00m \u001b[39mas\u001b[39;00m ex:\n\u001b[1;32m--> 134\u001b[0m         \u001b[39mraise\u001b[39;00m MissingOptionalLibraryError(\n\u001b[0;32m    135\u001b[0m             \u001b[39m\"\u001b[39m\u001b[39mqiskit-aer\u001b[39m\u001b[39m\"\u001b[39m, \u001b[39m\"\u001b[39m\u001b[39mAer provider\u001b[39m\u001b[39m\"\u001b[39m, \u001b[39m\"\u001b[39m\u001b[39mpip install qiskit-aer\u001b[39m\u001b[39m\"\u001b[39m\n\u001b[0;32m    136\u001b[0m         ) \u001b[39mfrom\u001b[39;00m \u001b[39mex\u001b[39;00m\n\u001b[0;32m    137\u001b[0m \u001b[39mreturn\u001b[39;00m \u001b[39mgetattr\u001b[39m(\u001b[39mself\u001b[39m\u001b[39m.\u001b[39maer, attr)\n",
      "\u001b[1;31mMissingOptionalLibraryError\u001b[0m: \"The 'qiskit-aer' library is required to use 'Aer provider'. You can install it with 'pip install qiskit-aer'.\""
     ]
    }
   ],
   "source": [
    "from qiskit import QuantumRegister, ClassicalRegister, QuantumCircuit, transpile\n",
    "from qiskit.tools.visualization import plot_bloch_multivector\n",
    "from qiskit import Aer, assemble\n",
    "\n",
    "qreg_q = QuantumRegister(2, 'q')\n",
    "creg_c = ClassicalRegister(2, 'c')\n",
    "circuit = QuantumCircuit(qreg_q, creg_c)\n",
    "\n",
    "circuit.h(qreg_q[0])\n",
    "circuit.cx(qreg_q[0], qreg_q[1])\n",
    "circuit.measure(qreg_q[0], creg_c[0])\n",
    "circuit.measure(qreg_q[1], creg_c[1])\n",
    "\n",
    "compiled_circuit = transpile(circuit, Aer.get_backend('aer_simulator'))\n",
    "\n",
    "simulator = Aer.get_backend('aer_simulator')\n",
    "compiled_circuit = transpile(circuit, simulator)\n",
    "qobj = assemble(compiled_circuit)\n",
    "result = simulator.run(qobj).result()\n",
    "\n",
    "counts = result.get_counts()\n",
    "print(counts)"
   ]
  }
 ],
 "metadata": {
  "kernelspec": {
   "display_name": "Python 3",
   "language": "python",
   "name": "python3"
  },
  "language_info": {
   "codemirror_mode": {
    "name": "ipython",
    "version": 3
   },
   "file_extension": ".py",
   "mimetype": "text/x-python",
   "name": "python",
   "nbconvert_exporter": "python",
   "pygments_lexer": "ipython3",
   "version": "3.12.0"
  },
  "orig_nbformat": 4
 },
 "nbformat": 4,
 "nbformat_minor": 2
}
