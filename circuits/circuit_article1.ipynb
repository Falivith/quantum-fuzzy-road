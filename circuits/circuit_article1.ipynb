{
 "cells": [
  {
   "cell_type": "code",
   "execution_count": 2,
   "metadata": {},
   "outputs": [
    {
     "data": {
      "image/png": "[encoded data removed]",
      "text/plain": [
       "<Figure size 287.496x284.278 with 1 Axes>"
      ]
     },
     "execution_count": 2,
     "metadata": {},
     "output_type": "execute_result"
    }
   ],
   "source": [
    "from qiskit import QuantumRegister, ClassicalRegister, QuantumCircuit\n",
    "from numpy import pi\n",
    "from qiskit.extensions import Initialize\n",
    "\n",
    "qreg_q = QuantumRegister(3, 'q')\n",
    "circuit = QuantumCircuit(qreg_q)\n",
    "\n",
    "circuit.cx(qreg_q[1], qreg_q[2])\n",
    "circuit.cx(qreg_q[0], qreg_q[2])\n",
    "\n",
    "\n",
    "circuit.draw(output = 'mpl')\n",
    "initial_state = [1 / 2 ** 0.5, 1 / 2 ** 0.5]\n",
    "\n",
    "#circuit.append(Initialize(initial_state), [0])\n",
    "\n",
    "#initial_state = [1 / 2 ** 0.5, 1 / 2 ** 0.5]\n",
    "#circuit.append(Initialize(initial_state), [1])\n",
    "\n",
    "#initial_state = [1 / 2 ** 0.5, 1 / 2 ** 0.5]\n",
    "#circuit.append(Initialize(initial_state), [2])\n",
    "\n",
    "#circuit.measure(qreg_q[0], creg_c[0])\n",
    "#circuit.measure(qreg_q[1], creg_c[1])\n"
   ]
  }
 ],
 "metadata": {
  "kernelspec": {
   "display_name": "Python 3",
   "language": "python",
   "name": "python3"
  },
  "language_info": {
   "codemirror_mode": {
    "name": "ipython",
    "version": 3
   },
   "file_extension": ".py",
   "mimetype": "text/x-python",
   "name": "python",
   "nbconvert_exporter": "python",
   "pygments_lexer": "ipython3",
   "version": "3.11.3"
  },
  "orig_nbformat": 4
 },
 "nbformat": 4,
 "nbformat_minor": 2
}
